{
 "cells": [
  {
   "cell_type": "code",
   "execution_count": 1,
   "metadata": {},
   "outputs": [],
   "source": [
    "import pandas as pd\r\n",
    "import numpy as np\r\n",
    "import seaborn as sns"
   ]
  },
  {
   "cell_type": "markdown",
   "metadata": {},
   "source": [
    "## 线性回归可解释性 — 皇帝的新衣"
   ]
  },
  {
   "cell_type": "code",
   "execution_count": 2,
   "metadata": {},
   "outputs": [
    {
     "data": {
      "text/plain": "Index(['CRIM', 'ZN', 'INDUS', 'CHAS', 'NOX', 'RM', 'AGE', 'DIS', 'RAD', 'TAX',\n       'PTRATIO', 'B', 'LSTAT', 'MEDV'],\n      dtype='object')"
     },
     "execution_count": 2,
     "metadata": {},
     "output_type": "execute_result"
    }
   ],
   "source": [
    "df = pd.read_csv(\"./data/boston.csv\")\r\n",
    "df.columns"
   ]
  },
  {
   "cell_type": "code",
   "execution_count": 3,
   "metadata": {},
   "outputs": [],
   "source": [
    "df.drop(\"CHAS\", axis=1, inplace=True)"
   ]
  },
  {
   "cell_type": "code",
   "execution_count": 4,
   "metadata": {},
   "outputs": [],
   "source": [
    "from sklearn.linear_model import LinearRegression"
   ]
  },
  {
   "cell_type": "code",
   "execution_count": 5,
   "metadata": {},
   "outputs": [],
   "source": [
    "X = df.iloc[:, :-1]\r\n",
    "y = df.iloc[:, -1]"
   ]
  },
  {
   "cell_type": "code",
   "execution_count": 6,
   "metadata": {},
   "outputs": [],
   "source": [
    "reg = LinearRegression(fit_intercept=False)"
   ]
  },
  {
   "cell_type": "code",
   "execution_count": 7,
   "metadata": {},
   "outputs": [],
   "source": [
    "beta_1 = []\r\n",
    "for column in X.columns:\r\n",
    "    x = np.array(X[column]).reshape(-1, 1)\r\n",
    "    reg.fit(x, y)\r\n",
    "    beta_1.extend(reg.coef_)"
   ]
  },
  {
   "cell_type": "code",
   "execution_count": 8,
   "metadata": {},
   "outputs": [],
   "source": [
    "reg.fit(X, y)\r\n",
    "beta_m = reg.coef_"
   ]
  },
  {
   "cell_type": "code",
   "execution_count": 9,
   "metadata": {},
   "outputs": [],
   "source": [
    "estimate_result = pd.DataFrame(\r\n",
    "    {\r\n",
    "        \"Var\": X.columns,\r\n",
    "        \"Univariate\": beta_1,\r\n",
    "        \"Multivariate\": beta_m\r\n",
    "    }\r\n",
    ")"
   ]
  },
  {
   "cell_type": "code",
   "execution_count": 10,
   "metadata": {},
   "outputs": [
    {
     "data": {
      "text/html": "<div>\n<style scoped>\n    .dataframe tbody tr th:only-of-type {\n        vertical-align: middle;\n    }\n\n    .dataframe tbody tr th {\n        vertical-align: top;\n    }\n\n    .dataframe thead th {\n        text-align: right;\n    }\n</style>\n<table border=\"1\" class=\"dataframe\">\n  <thead>\n    <tr style=\"text-align: right;\">\n      <th></th>\n      <th>Var</th>\n      <th>Univariate</th>\n      <th>Multivariate</th>\n    </tr>\n  </thead>\n  <tbody>\n    <tr>\n      <th>0</th>\n      <td>CRIM</td>\n      <td>0.584192</td>\n      <td>-0.098157</td>\n    </tr>\n    <tr>\n      <th>1</th>\n      <td>ZN</td>\n      <td>0.495863</td>\n      <td>0.049416</td>\n    </tr>\n    <tr>\n      <th>2</th>\n      <td>INDUS</td>\n      <td>1.289376</td>\n      <td>0.016628</td>\n    </tr>\n    <tr>\n      <th>3</th>\n      <td>NOX</td>\n      <td>37.511009</td>\n      <td>-2.255775</td>\n    </tr>\n    <tr>\n      <th>4</th>\n      <td>RM</td>\n      <td>3.653350</td>\n      <td>5.998046</td>\n    </tr>\n    <tr>\n      <th>5</th>\n      <td>AGE</td>\n      <td>0.263555</td>\n      <td>-0.005146</td>\n    </tr>\n    <tr>\n      <th>6</th>\n      <td>DIS</td>\n      <td>4.798467</td>\n      <td>-0.972546</td>\n    </tr>\n    <tr>\n      <th>7</th>\n      <td>RAD</td>\n      <td>1.106776</td>\n      <td>0.193115</td>\n    </tr>\n    <tr>\n      <th>8</th>\n      <td>TAX</td>\n      <td>0.043455</td>\n      <td>-0.010870</td>\n    </tr>\n    <tr>\n      <th>9</th>\n      <td>PTRATIO</td>\n      <td>1.175159</td>\n      <td>-0.425742</td>\n    </tr>\n    <tr>\n      <th>10</th>\n      <td>B</td>\n      <td>0.061359</td>\n      <td>0.015433</td>\n    </tr>\n    <tr>\n      <th>11</th>\n      <td>LSTAT</td>\n      <td>1.122104</td>\n      <td>-0.424929</td>\n    </tr>\n  </tbody>\n</table>\n</div>",
      "text/plain": "        Var  Univariate  Multivariate\n0      CRIM    0.584192     -0.098157\n1        ZN    0.495863      0.049416\n2     INDUS    1.289376      0.016628\n3       NOX   37.511009     -2.255775\n4        RM    3.653350      5.998046\n5       AGE    0.263555     -0.005146\n6       DIS    4.798467     -0.972546\n7       RAD    1.106776      0.193115\n8       TAX    0.043455     -0.010870\n9   PTRATIO    1.175159     -0.425742\n10        B    0.061359      0.015433\n11    LSTAT    1.122104     -0.424929"
     },
     "execution_count": 10,
     "metadata": {},
     "output_type": "execute_result"
    }
   ],
   "source": [
    "estimate_result"
   ]
  },
  {
   "cell_type": "code",
   "execution_count": 11,
   "metadata": {},
   "outputs": [],
   "source": [
    "_estimate_result = estimate_result.melt(id_vars=[\"Var\"], var_name=\"Model\", value_name=\"Coef\")"
   ]
  },
  {
   "cell_type": "code",
   "execution_count": 12,
   "metadata": {},
   "outputs": [
    {
     "data": {
      "text/plain": "Text(0.5, 1.0, 'Coefficients of Univariate and Multivariate')"
     },
     "execution_count": 12,
     "metadata": {},
     "output_type": "execute_result"
    },
    {
     "data": {
      "image/png": "[encoded data removed]",
      "text/plain": "<Figure size 432x288 with 1 Axes>"
     },
     "metadata": {
      "needs_background": "light"
     },
     "output_type": "display_data"
    }
   ],
   "source": [
    "sns.barplot(x=\"Coef\", y=\"Var\", hue=\"Model\", data=_estimate_result).set_title(\"Coefficients of Univariate and Multivariate\")"
   ]
  },
  {
   "cell_type": "markdown",
   "metadata": {},
   "source": [
    "因此，多重回归不具有可解释性，仅当 $X$ 为正交矩阵时， 两者相等。"
   ]
  }
 ],
 "metadata": {
  "kernelspec": {
   "display_name": "Python 3.8.8 64-bit ('base': conda)",
   "name": "python388jvsc74a57bd0bc80ae73d0cbfc7e6ba1a6414a6f692fa96249d2d3b92e103158da0cb88d3364"
  },
  "language_info": {
   "codemirror_mode": {
    "name": "ipython",
    "version": 3
   },
   "file_extension": ".py",
   "mimetype": "text/x-python",
   "name": "python",
   "nbconvert_exporter": "python",
   "pygments_lexer": "ipython3",
   "version": "3.8.8"
  },
  "orig_nbformat": 2
 },
 "nbformat": 4,
 "nbformat_minor": 2
}