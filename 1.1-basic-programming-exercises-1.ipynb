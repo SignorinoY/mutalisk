{
 "cells": [
  {
   "cell_type": "code",
   "execution_count": 1,
   "metadata": {},
   "outputs": [],
   "source": [
    "import pandas as pd\r\n",
    "import seaborn as sns\r\n",
    "\r\n",
    "import math\r\n",
    "import turtle\r\n",
    "\r\n",
    "import time"
   ]
  },
  {
   "cell_type": "markdown",
   "metadata": {},
   "source": [
    "## 基本编程训练（一）"
   ]
  },
  {
   "cell_type": "markdown",
   "metadata": {},
   "source": [
    "1. 编写一个函数, 类似于(但简单些) R 的 `seq( )`, 展示从 `From` 到 `To` 的序列, 如果 `by` 有值, 则其绝对值为步长. 不用任何非基本函数."
   ]
  },
  {
   "cell_type": "code",
   "execution_count": 2,
   "metadata": {},
   "outputs": [],
   "source": [
    "def seq(start, end=None, step=1):\r\n",
    "    if isinstance(start, list):\r\n",
    "        end = len(start) \r\n",
    "        start = 0\r\n",
    "    if end == None:\r\n",
    "        end = start\r\n",
    "        start = 0\r\n",
    "    _seq = []\r\n",
    "    length = int(abs((start - end) // step))\r\n",
    "    step = - step if start > end else step\r\n",
    "    for _ in range(length):\r\n",
    "        _seq.append(start)\r\n",
    "        start += step\r\n",
    "    return _seq"
   ]
  },
  {
   "cell_type": "code",
   "execution_count": 3,
   "metadata": {},
   "outputs": [
    {
     "data": {
      "text/plain": "[3, 2.5, 2.0, 1.5, 1.0, 0.5, 0.0, -0.5]"
     },
     "execution_count": 3,
     "metadata": {},
     "output_type": "execute_result"
    }
   ],
   "source": [
    "seq(3, -1, .5)"
   ]
  },
  {
   "cell_type": "code",
   "execution_count": 4,
   "metadata": {},
   "outputs": [
    {
     "data": {
      "text/plain": "[5, 4, 3, 2]"
     },
     "execution_count": 4,
     "metadata": {},
     "output_type": "execute_result"
    }
   ],
   "source": [
    "seq(5, 1)"
   ]
  },
  {
   "cell_type": "code",
   "execution_count": 5,
   "metadata": {},
   "outputs": [
    {
     "data": {
      "text/plain": "[0, 1, 2, 3, 4]"
     },
     "execution_count": 5,
     "metadata": {},
     "output_type": "execute_result"
    }
   ],
   "source": [
    "seq(5)"
   ]
  },
  {
   "cell_type": "code",
   "execution_count": 6,
   "metadata": {},
   "outputs": [
    {
     "data": {
      "text/plain": "[0, -1, -2, -3, -4]"
     },
     "execution_count": 6,
     "metadata": {},
     "output_type": "execute_result"
    }
   ],
   "source": [
    "seq(-5)"
   ]
  },
  {
   "cell_type": "code",
   "execution_count": 7,
   "metadata": {},
   "outputs": [
    {
     "data": {
      "text/plain": "[1.5, 1.75, 2.0, 2.25, 2.5, 2.75]"
     },
     "execution_count": 7,
     "metadata": {},
     "output_type": "execute_result"
    }
   ],
   "source": [
    "seq(1.5, 3, 0.25)"
   ]
  },
  {
   "cell_type": "code",
   "execution_count": 8,
   "metadata": {},
   "outputs": [
    {
     "data": {
      "text/plain": "[0, 1, 2, 3, 4]"
     },
     "execution_count": 8,
     "metadata": {},
     "output_type": "execute_result"
    }
   ],
   "source": [
    "seq([1, 1, 5, -3, 1])"
   ]
  },
  {
   "cell_type": "code",
   "execution_count": 9,
   "metadata": {},
   "outputs": [
    {
     "data": {
      "text/plain": "[]"
     },
     "execution_count": 9,
     "metadata": {},
     "output_type": "execute_result"
    }
   ],
   "source": [
    "seq(1, 1)"
   ]
  },
  {
   "cell_type": "markdown",
   "metadata": {},
   "source": [
    "2. 编写函数, 可以得到一个数组的乘积, 和, 均值, 累积乘积, 累积和, 累积均值(当然可以分别编写各自的函数), 不用非基本函数(可以用 `dict` 作为输出形式)"
   ]
  },
  {
   "cell_type": "code",
   "execution_count": 10,
   "metadata": {},
   "outputs": [],
   "source": [
    "def summary(nums):\r\n",
    "    n = 0\r\n",
    "    _product = 1\r\n",
    "    _sum = 0\r\n",
    "    _cumproduct = []\r\n",
    "    _cumsum = []\r\n",
    "    _cummean = []\r\n",
    "    for num in nums:\r\n",
    "        n += 1\r\n",
    "        _product *= num\r\n",
    "        _sum = _sum + num\r\n",
    "        _mean = _sum / n\r\n",
    "        _cumproduct.append(_product)\r\n",
    "        _cumsum.append(_sum)\r\n",
    "        _cummean.append(_mean)\r\n",
    "    return {\r\n",
    "        \"Product\": _product,\r\n",
    "        \"Sum\": _sum,\r\n",
    "        \"Mean\": _mean,\r\n",
    "        \"CumProduct\": _cumproduct,\r\n",
    "        \"CumSum\": _cumsum,\r\n",
    "        \"CumMean\": _cummean\r\n",
    "    }"
   ]
  },
  {
   "cell_type": "code",
   "execution_count": 11,
   "metadata": {},
   "outputs": [
    {
     "data": {
      "text/plain": "{'Product': 1024,\n 'Sum': 31,\n 'Mean': 6.2,\n 'CumProduct': [1, 2, 8, 64, 1024],\n 'CumSum': [1, 3, 7, 15, 31],\n 'CumMean': [1.0, 1.5, 2.3333333333333335, 3.75, 6.2]}"
     },
     "execution_count": 11,
     "metadata": {},
     "output_type": "execute_result"
    }
   ],
   "source": [
    "summary([1, 2, 4, 8, 16])"
   ]
  },
  {
   "cell_type": "markdown",
   "metadata": {},
   "source": [
    "3. 编一个程序产生 (0, 1) 区间的随机数列. 在老程序中, 人们经常取 m = 65536, β = 2053, α = 13849, 其实没有关系, 但m 需要取大一些, 比如m = 216. 也请点出随机数的散 点图及直方图, 看其像不像是随机的(画图函数随意)."
   ]
  },
  {
   "cell_type": "code",
   "execution_count": 12,
   "metadata": {},
   "outputs": [],
   "source": [
    "def rand(count, seed=0, m=65536, beta=2053, alpha=13849):\r\n",
    "    _rand = []\r\n",
    "    x = seed\r\n",
    "    for _ in range(count):\r\n",
    "        x = (beta * x + alpha) % m\r\n",
    "        _rand.append(x / m)\r\n",
    "    return _rand"
   ]
  },
  {
   "cell_type": "code",
   "execution_count": 13,
   "metadata": {},
   "outputs": [],
   "source": [
    "count = 1000\r\n",
    "df = pd.DataFrame(\r\n",
    "    {\r\n",
    "        \"index\": range(count),\r\n",
    "        \"value\": rand(count)\r\n",
    "    }\r\n",
    ")"
   ]
  },
  {
   "cell_type": "code",
   "execution_count": 14,
   "metadata": {},
   "outputs": [
    {
     "data": {
      "text/plain": "<AxesSubplot:xlabel='index', ylabel='value'>"
     },
     "execution_count": 14,
     "metadata": {},
     "output_type": "execute_result"
    },
    {
     "data": {
      "image/png": "[encoded data removed]",
      "text/plain": "<Figure size 432x288 with 1 Axes>"
     },
     "metadata": {
      "needs_background": "light"
     },
     "output_type": "display_data"
    }
   ],
   "source": [
    "sns.scatterplot(x=\"index\", y=\"value\", data=df)"
   ]
  },
  {
   "cell_type": "code",
   "execution_count": 15,
   "metadata": {},
   "outputs": [
    {
     "data": {
      "text/plain": "<seaborn.axisgrid.FacetGrid at 0x22888c3d6d0>"
     },
     "execution_count": 15,
     "metadata": {},
     "output_type": "execute_result"
    },
    {
     "data": {
      "image/png": "[encoded data removed]",
      "text/plain": "<Figure size 360x360 with 1 Axes>"
     },
     "metadata": {
      "needs_background": "light"
     },
     "output_type": "display_data"
    }
   ],
   "source": [
    "sns.displot(df[\"value\"])"
   ]
  },
  {
   "cell_type": "markdown",
   "metadata": {},
   "source": [
    "4. 请编写一个产生状态随机数序列的函数, 并用直方图来验证(画图函数随意)"
   ]
  },
  {
   "cell_type": "code",
   "execution_count": 16,
   "metadata": {},
   "outputs": [],
   "source": [
    "def randn(count, mu=0, sigma=1, seed=1, n=12):\r\n",
    "    _randn = []\r\n",
    "    _rand = rand(count * n, seed)\r\n",
    "    for i in range(count):\r\n",
    "        y = mu + sigma * (sum(_rand[n*i:n*(i+1)]) - n / 2) / math.sqrt(n / 12)\r\n",
    "        _randn.append(y)\r\n",
    "    return _randn"
   ]
  },
  {
   "cell_type": "code",
   "execution_count": 17,
   "metadata": {},
   "outputs": [],
   "source": [
    "count = 1000\r\n",
    "df = pd.DataFrame(\r\n",
    "    {\r\n",
    "        \"index\": range(count),\r\n",
    "        \"value\": randn(count)\r\n",
    "    }\r\n",
    ")"
   ]
  },
  {
   "cell_type": "code",
   "execution_count": 18,
   "metadata": {},
   "outputs": [
    {
     "data": {
      "text/plain": "<seaborn.axisgrid.FacetGrid at 0x22888d0b790>"
     },
     "execution_count": 18,
     "metadata": {},
     "output_type": "execute_result"
    },
    {
     "data": {
      "image/png": "[encoded data removed]",
      "text/plain": "<Figure size 360x360 with 1 Axes>"
     },
     "metadata": {
      "needs_background": "light"
     },
     "output_type": "display_data"
    }
   ],
   "source": [
    "sns.displot(df[\"value\"], kde=True)"
   ]
  },
  {
   "cell_type": "markdown",
   "metadata": {},
   "source": [
    "5. 全部利用前面自编的函数产生 2 维随机游走, 并画出轨迹图(画图函数随意)"
   ]
  },
  {
   "cell_type": "code",
   "execution_count": 19,
   "metadata": {},
   "outputs": [],
   "source": [
    "s = turtle.getscreen()\r\n",
    "t = turtle.Turtle()\r\n",
    "\r\n",
    "steps = 1000\r\n",
    "x = randn(steps, seed=0)\r\n",
    "y = randn(steps, seed=1)\r\n",
    "x0 = 0\r\n",
    "y0 = 0\r\n",
    "for i, j in zip(x, y):\r\n",
    "    x0 += i\r\n",
    "    y0 += j\r\n",
    "    t.goto(x0 * 10, y0 * 10)\r\n",
    "    time.sleep(0.1)\r\n",
    "turtle.done()"
   ]
  },
  {
   "cell_type": "code",
   "execution_count": null,
   "metadata": {},
   "outputs": [],
   "source": []
  }
 ],
 "metadata": {
  "kernelspec": {
   "display_name": "Python 3.8.8 64-bit ('base': conda)",
   "name": "python388jvsc74a57bd0bc80ae73d0cbfc7e6ba1a6414a6f692fa96249d2d3b92e103158da0cb88d3364"
  },
  "language_info": {
   "codemirror_mode": {
    "name": "ipython",
    "version": 3
   },
   "file_extension": ".py",
   "mimetype": "text/x-python",
   "name": "python",
   "nbconvert_exporter": "python",
   "pygments_lexer": "ipython3",
   "version": "3.8.8"
  },
  "orig_nbformat": 2
 },
 "nbformat": 4,
 "nbformat_minor": 2
}