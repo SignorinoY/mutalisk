{
 "cells": [
  {
   "cell_type": "code",
   "execution_count": 1,
   "metadata": {},
   "outputs": [],
   "source": [
    "import numpy as np"
   ]
  },
  {
   "cell_type": "code",
   "execution_count": 2,
   "metadata": {},
   "outputs": [],
   "source": [
    "def seq(start, end=None, step=1):\n",
    "    if isinstance(start, list):\n",
    "        end = len(start)\n",
    "        start = 0\n",
    "    if end == None:\n",
    "        end = start\n",
    "        start = 0\n",
    "    _seq = []\n",
    "    length = int(abs((start - end) // step))\n",
    "    step = - step if start > end else step\n",
    "    for _ in range(length):\n",
    "        _seq.append(start)\n",
    "        start += step\n",
    "    return _seq"
   ]
  },
  {
   "cell_type": "markdown",
   "metadata": {},
   "source": [
    "## 基本编程训练之二"
   ]
  },
  {
   "cell_type": "markdown",
   "metadata": {},
   "source": [
    "1. 全部利用前面自编的函数产生计算 Pearson 相关系数的函数\n",
    "\n",
    "    $$\n",
    "    r_{X Y}=\\frac{\\sum_{i=1}^{n}\\left(x_{i}-\\bar{x}\\right)\\left(y_{i}-\\bar{y}\\right)}{\\sqrt{\\sum_{i=1}^{n}\\left(x_{i}-\\bar{x}\\right)^{2} \\sum_{i=1}^{n}\\left(y_{i}-\\bar{y}\\right)^{2}}}\n",
    "    $$\n",
    "\n",
    "    并计算-10 到 10 (比如间隔 0.5) 的序列 (可用自编函数 `seq()` 产生, 比如 $\\mathrm{u}=\\mathrm{seq}(-10,11)$), 求 $u$ 和 $u^{2}$ 的相关系数."
   ]
  },
  {
   "cell_type": "code",
   "execution_count": 3,
   "metadata": {},
   "outputs": [],
   "source": [
    "def corr(x, y):\n",
    "    if len(x) != len(y):\n",
    "        raise ValueError(\"x and y must have the same length\")\n",
    "    x_bar = sum(x) / len(x)\n",
    "    y_bar = sum(y) / len(y)\n",
    "    _corr = sum(map(lambda x, y: (x - x_bar) * (y - y_bar), x, y)) / \\\n",
    "        (sum([(xi - x_bar) ** 2 for xi in x]) *\n",
    "         sum([(yi - y_bar) ** 2 for yi in y])) ** 0.5\n",
    "    return _corr"
   ]
  },
  {
   "cell_type": "code",
   "execution_count": 4,
   "metadata": {},
   "outputs": [
    {
     "data": {
      "text/plain": [
       "0.0"
      ]
     },
     "execution_count": 4,
     "metadata": {},
     "output_type": "execute_result"
    }
   ],
   "source": [
    "u = seq(-10, 10.1, 0.5)\n",
    "u2 = [i ** 2 for i in u]\n",
    "corr(u, u2)"
   ]
  },
  {
   "cell_type": "markdown",
   "metadata": {},
   "source": [
    "2. 编写类似于 `len()` 的函数求 `list`, `tuble`, `dict`, `str` 的长度."
   ]
  },
  {
   "cell_type": "code",
   "execution_count": 5,
   "metadata": {},
   "outputs": [],
   "source": [
    "def ilen(obj):\n",
    "    if isinstance(obj, dict):\n",
    "        obj = list(obj.items())\n",
    "    _len = 0\n",
    "    while True:\n",
    "        try:\n",
    "            obj[_len]\n",
    "            _len += 1\n",
    "        except IndexError:\n",
    "            break\n",
    "    return _len"
   ]
  },
  {
   "cell_type": "code",
   "execution_count": 6,
   "metadata": {},
   "outputs": [
    {
     "data": {
      "text/plain": [
       "3"
      ]
     },
     "execution_count": 6,
     "metadata": {},
     "output_type": "execute_result"
    }
   ],
   "source": [
    "ilen([1, 2, 3])"
   ]
  },
  {
   "cell_type": "code",
   "execution_count": 7,
   "metadata": {},
   "outputs": [
    {
     "data": {
      "text/plain": [
       "3"
      ]
     },
     "execution_count": 7,
     "metadata": {},
     "output_type": "execute_result"
    }
   ],
   "source": [
    "ilen((1, 2, 3))"
   ]
  },
  {
   "cell_type": "code",
   "execution_count": 8,
   "metadata": {},
   "outputs": [
    {
     "data": {
      "text/plain": [
       "3"
      ]
     },
     "execution_count": 8,
     "metadata": {},
     "output_type": "execute_result"
    }
   ],
   "source": [
    "ilen({'Name': 'Zara', 'Age': 7, 'Class': 'First'})"
   ]
  },
  {
   "cell_type": "code",
   "execution_count": 9,
   "metadata": {},
   "outputs": [
    {
     "data": {
      "text/plain": [
       "12"
      ]
     },
     "execution_count": 9,
     "metadata": {},
     "output_type": "execute_result"
    }
   ],
   "source": [
    "ilen(\"Hello World!\")"
   ]
  },
  {
   "cell_type": "markdown",
   "metadata": {},
   "source": [
    "3. 不用任何函数 (除了自编函数), 编写一个全部是某个数 (如 0, 1 或任何元素等) 的 $m\\times n$ 矩阵或向量 (`list` 形式). 这里的所谓向量或矩阵是可直接以转换成 `np.array` 相应维数向量或矩阵的 `list`. 比如,\n",
    "   \n",
    "    ```python\n",
    "    print(Const(7,2,3),'\\n',Const(6,5))\n",
    "    # [[7, 7, 7], [7, 7, 7]]\n",
    "    # [6, 6, 6, 6, 6]\n",
    "    ```"
   ]
  },
  {
   "cell_type": "code",
   "execution_count": 10,
   "metadata": {},
   "outputs": [],
   "source": [
    "def const(num, m, n=1):\n",
    "    if n == 1:\n",
    "        matrix = [num] * m\n",
    "    else:\n",
    "        matrix = [[num] * n for i in range(m)]\n",
    "    return matrix"
   ]
  },
  {
   "cell_type": "code",
   "execution_count": 11,
   "metadata": {},
   "outputs": [
    {
     "name": "stdout",
     "output_type": "stream",
     "text": [
      "[[7 7 7]\n",
      " [7 7 7]]\n"
     ]
    }
   ],
   "source": [
    "print(np.array(const(7, 2, 3)))"
   ]
  },
  {
   "cell_type": "code",
   "execution_count": 12,
   "metadata": {},
   "outputs": [
    {
     "name": "stdout",
     "output_type": "stream",
     "text": [
      "[6 6 6 6 6]\n"
     ]
    }
   ],
   "source": [
    "print(np.array(const(6, 5)))"
   ]
  },
  {
   "cell_type": "markdown",
   "metadata": {},
   "source": [
    "4. 编写类似于 `R` 的 `diag()` 函数 (这里的矩阵和向量和前面一样是指可以直接用 `np.array` 转换成相应矩阵和向量的 `list`, 只允许用自编的及 `hasattr()` 函数, 结果示例:\n",
    "    ```python\n",
    "    print(np.array(Diag([3,3,1])),np.array(Diag(3)),np.array(Diag([[1,2,3,4],[9,8,7,6]])))\n",
    "    # (array([[3, 0, 0],\n",
    "    # [0, 3, 0],\n",
    "    # [0, 0, 1]]),\n",
    "    # array([[1, 0, 0],\n",
    "    # [0, 1, 0],\n",
    "    # [0, 0, 1]]),\n",
    "    # array([1, 8]))\n",
    "    ```"
   ]
  },
  {
   "cell_type": "code",
   "execution_count": 13,
   "metadata": {},
   "outputs": [],
   "source": [
    "def diag(nums):\n",
    "    matrix = []\n",
    "    if isinstance(nums, list) and isinstance(nums[0], list):\n",
    "        m = len(nums)\n",
    "        n = len(nums[0])\n",
    "        for i in range(min(m, n)):\n",
    "            matrix.append(nums[i][i])\n",
    "    else:\n",
    "        if isinstance(nums, int):\n",
    "            nums = [1] * nums\n",
    "        n = len(nums)\n",
    "        for i in range(n):\n",
    "            row = [0] * (i) + [nums[i]] + [0] * (n-i-1)\n",
    "            matrix.append(row)\n",
    "    return matrix"
   ]
  },
  {
   "cell_type": "code",
   "execution_count": 14,
   "metadata": {},
   "outputs": [
    {
     "name": "stdout",
     "output_type": "stream",
     "text": [
      "[[3 0 0]\n",
      " [0 3 0]\n",
      " [0 0 1]]\n"
     ]
    }
   ],
   "source": [
    "print(np.array(diag([3, 3, 1])))"
   ]
  },
  {
   "cell_type": "code",
   "execution_count": 15,
   "metadata": {},
   "outputs": [
    {
     "name": "stdout",
     "output_type": "stream",
     "text": [
      "[[1 0 0]\n",
      " [0 1 0]\n",
      " [0 0 1]]\n"
     ]
    }
   ],
   "source": [
    "print(np.array(diag(3)))"
   ]
  },
  {
   "cell_type": "code",
   "execution_count": 16,
   "metadata": {},
   "outputs": [
    {
     "name": "stdout",
     "output_type": "stream",
     "text": [
      "[1 8]\n"
     ]
    }
   ],
   "source": [
    "print(np.array(diag([[1, 2, 3, 4], [9, 8, 7, 6]])))"
   ]
  },
  {
   "cell_type": "markdown",
   "metadata": {},
   "source": [
    "5. 不能用任何非允许函数 (可用自编函数), 得到某 `np.array` 矩阵(比如 `x=np.random.rand(3,2))` 的转置 (和 `x.T` 相同) 的函数."
   ]
  },
  {
   "cell_type": "code",
   "execution_count": 17,
   "metadata": {},
   "outputs": [],
   "source": [
    "def transorms(matrix):\n",
    "    _transorms = []\n",
    "    m, n = matrix.shape\n",
    "    for j in range(n):\n",
    "        row = []\n",
    "        for i in range(m):\n",
    "            row.append(matrix[i][j])\n",
    "        _transorms.append(row)\n",
    "    return _transorms"
   ]
  },
  {
   "cell_type": "code",
   "execution_count": 18,
   "metadata": {},
   "outputs": [
    {
     "name": "stdout",
     "output_type": "stream",
     "text": [
      "[[0.84429665 0.1543149 ]\n",
      " [0.83395225 0.43398287]\n",
      " [0.26198036 0.87704289]]\n",
      "[[0.84429665 0.83395225 0.26198036]\n",
      " [0.1543149  0.43398287 0.87704289]]\n"
     ]
    }
   ],
   "source": [
    "x = np.random.rand(3, 2)\n",
    "print(x)\n",
    "print(np.array(transorms(x)))"
   ]
  },
  {
   "cell_type": "markdown",
   "metadata": {},
   "source": [
    "6. 编写向量之间的外积类运算函数. 这一类运算是在两个 `np.array` 向量之间进行, 得到的是一个矩阵, 其行列数分别等于两个向量的长度, 而第 $ij$ 个元素为第一个向量的第 $i$ 个元素与第二个向量的第 $j$ 个元素计算而得. 请最多仅用自己编写的函数来写出实行这个运算的函数."
   ]
  },
  {
   "cell_type": "code",
   "execution_count": 19,
   "metadata": {},
   "outputs": [],
   "source": [
    "def outer_product(x, y):\n",
    "    m = len(x)\n",
    "    n = len(y)\n",
    "    matrix = []\n",
    "    for i in range(m):\n",
    "        row = []\n",
    "        for j in range(n):\n",
    "            row.append(x[i]*y[j])\n",
    "        matrix.append(row)\n",
    "    return matrix"
   ]
  },
  {
   "cell_type": "code",
   "execution_count": 20,
   "metadata": {},
   "outputs": [
    {
     "name": "stdout",
     "output_type": "stream",
     "text": [
      "[[1 1 1 1]\n",
      " [2 2 2 2]\n",
      " [3 3 3 3]]\n"
     ]
    }
   ],
   "source": [
    "x = np.array([1, 2, 3])\n",
    "y = np.array([1, 1, 1, 1])\n",
    "print(np.array(outer_product(x, y)))"
   ]
  },
  {
   "cell_type": "markdown",
   "metadata": {},
   "source": [
    "7. 除了自己编写的函数及 `eval()` 函数, 不能用任何函数, 编写向量对矩阵行或列做各种运算, 包括四则运算、余、乘方、大于、小于等. 类似于 `R` 的 `sweep()` 函数."
   ]
  },
  {
   "cell_type": "code",
   "execution_count": 21,
   "metadata": {},
   "outputs": [],
   "source": [
    "def sweep(x, margin, stats, fun=\"-\"):\n",
    "    m = len(x)\n",
    "    n = len(x[0])\n",
    "    for i in range(m):\n",
    "        for j in range(n):\n",
    "            temp = stats[j] if margin == 1 else stats[i]\n",
    "            x[i][j] = eval(str(x[i][j]) + fun + str(temp))\n",
    "    return x"
   ]
  },
  {
   "cell_type": "code",
   "execution_count": 22,
   "metadata": {},
   "outputs": [
    {
     "name": "stdout",
     "output_type": "stream",
     "text": [
      "[[1 3 5 7]\n",
      " [2 4 6 8]]\n",
      "[[0 2 3 5]\n",
      " [1 3 4 6]]\n"
     ]
    }
   ],
   "source": [
    "x = [[1, 3, 5, 7], [2, 4, 6, 8]]\n",
    "print(np.array(x))\n",
    "stats = [1, 1, 2, 2]\n",
    "print(np.array(sweep(x, 1, stats)))"
   ]
  },
  {
   "cell_type": "code",
   "execution_count": 23,
   "metadata": {},
   "outputs": [
    {
     "name": "stdout",
     "output_type": "stream",
     "text": [
      "[[1 3 5 7]\n",
      " [2 4 6 8]]\n",
      "[[3 5 7 9]\n",
      " [3 5 7 9]]\n"
     ]
    }
   ],
   "source": [
    "x = [[1, 3, 5, 7], [2, 4, 6, 8]]\n",
    "print(np.array(x))\n",
    "stats = [2, 1]\n",
    "print(np.array(sweep(x, 2, stats, \"+\")))"
   ]
  },
  {
   "cell_type": "markdown",
   "metadata": {},
   "source": [
    "8. 除了自己编写的函数, 不能用任何函数, 编写 `np.array` 矩阵乘积(试着产生 `x.dot(y.T)` 的结果)的函数."
   ]
  },
  {
   "cell_type": "code",
   "execution_count": 24,
   "metadata": {},
   "outputs": [],
   "source": [
    "def dot(x, y):\n",
    "    m = len(x)\n",
    "    n = len(y)\n",
    "    p = len(y[0])\n",
    "    matrix = [[0] * p for _ in range(m)]\n",
    "    for i in range(m):\n",
    "        for j in range(p):\n",
    "            for k in range(n):\n",
    "                matrix[i][j] = matrix[i][j] + x[i][k] * y[k][j]\n",
    "    return matrix"
   ]
  },
  {
   "cell_type": "code",
   "execution_count": 25,
   "metadata": {},
   "outputs": [
    {
     "name": "stdout",
     "output_type": "stream",
     "text": [
      "[[0.14963552 0.33004658 0.27666162 0.60789559 0.19080191]\n",
      " [0.76711433 0.95659815 0.76043472 1.36870115 1.34927651]\n",
      " [0.48317193 0.81274702 1.31606639 1.68673219 1.04562661]]\n"
     ]
    }
   ],
   "source": [
    "x = np.random.rand(3, 4)\n",
    "y = np.random.rand(5, 4)\n",
    "print(np.array(dot(x, y.T)))"
   ]
  },
  {
   "cell_type": "code",
   "execution_count": 26,
   "metadata": {},
   "outputs": [
    {
     "name": "stdout",
     "output_type": "stream",
     "text": [
      "[[0.14963552 0.33004658 0.27666162 0.60789559 0.19080191]\n",
      " [0.76711433 0.95659815 0.76043472 1.36870115 1.34927651]\n",
      " [0.48317193 0.81274702 1.31606639 1.68673219 1.04562661]]\n"
     ]
    }
   ],
   "source": [
    "print(x.dot(y.T))"
   ]
  },
  {
   "cell_type": "markdown",
   "metadata": {},
   "source": [
    "9. 求逆矩阵只允许使用前面自己编写的函数, 用主元 Gauss-Jordan (高斯-约当) 消元法求逆矩阵的函数."
   ]
  },
  {
   "cell_type": "code",
   "execution_count": 27,
   "metadata": {},
   "outputs": [],
   "source": [
    "def inverse(x):\n",
    "    n = len(x)\n",
    "    matrix = [[0] * 2 * n for _ in range(n)]\n",
    "    for i in range(n):\n",
    "        for j in range(n):\n",
    "            matrix[i][j] = x[i][j]\n",
    "            if i == j:\n",
    "                matrix[i][j+n] = 1\n",
    "    for i in range(n):\n",
    "        if matrix[i][i] == 0.0:\n",
    "            # !TODO 该情况无法说明矩阵是奇异的\n",
    "            raise ValueError(\"matrix is singular!\")\n",
    "        ratio = matrix[i][i]\n",
    "        for k in range(2 * n):\n",
    "            matrix[i][k] /= ratio\n",
    "        for j in range(n):\n",
    "            if i != j:\n",
    "                ratio = matrix[j][i] / matrix[i][i]\n",
    "                for k in range(2 * n):\n",
    "                    matrix[j][k] -= ratio * matrix[i][k]\n",
    "    for i in range(n):\n",
    "        matrix[i] = matrix[i][n:]\n",
    "    return matrix"
   ]
  },
  {
   "cell_type": "code",
   "execution_count": 28,
   "metadata": {},
   "outputs": [],
   "source": [
    "x = np.array([[5, 4, 4], [8, 9, 8], [9, 4, 7]])"
   ]
  },
  {
   "cell_type": "code",
   "execution_count": 29,
   "metadata": {},
   "outputs": [
    {
     "name": "stdout",
     "output_type": "stream",
     "text": [
      "[[ 1.34782609 -0.52173913 -0.17391304]\n",
      " [ 0.69565217 -0.04347826 -0.34782609]\n",
      " [-2.13043478  0.69565217  0.56521739]]\n"
     ]
    }
   ],
   "source": [
    "print(np.array(inverse(x)))"
   ]
  },
  {
   "cell_type": "code",
   "execution_count": 30,
   "metadata": {},
   "outputs": [
    {
     "name": "stdout",
     "output_type": "stream",
     "text": [
      "[[ 1.34782609 -0.52173913 -0.17391304]\n",
      " [ 0.69565217 -0.04347826 -0.34782609]\n",
      " [-2.13043478  0.69565217  0.56521739]]\n"
     ]
    }
   ],
   "source": [
    "print(np.linalg.inv(x))"
   ]
  },
  {
   "cell_type": "markdown",
   "metadata": {},
   "source": [
    "10. 写出一个函数 (只可以用自己编写的函数), \n",
    "    1.  把一个序列从小到大 (或从大到小) 排序 (类似于 `R` `sort()` 函数).\n",
    "    2.  把相应于序列大小的下标找出来 (类似于 `R` `order()` 函数)."
   ]
  },
  {
   "cell_type": "code",
   "execution_count": 31,
   "metadata": {},
   "outputs": [],
   "source": [
    "def partition(array, low, high, cmp):\n",
    "    pivot = low - 1\n",
    "    for i in range(low, high + 1):\n",
    "        if cmp(array[i], array[high]):\n",
    "            pivot += 1\n",
    "            array[i], array[pivot] = array[pivot], array[i]\n",
    "    return pivot\n",
    "\n",
    "\n",
    "def _qsort(array, low, high, cmp):\n",
    "    if low >= high:\n",
    "        return\n",
    "    pivot = partition(array, low, high, cmp)\n",
    "    _qsort(array, low, pivot - 1, cmp)\n",
    "    _qsort(array, pivot + 1, high, cmp)\n",
    "\n",
    "\n",
    "def sort(array):\n",
    "    def cmp_sort(a, b):\n",
    "        return a <= b\n",
    "    _qsort(array, 0, len(array) - 1, cmp_sort)\n",
    "    return array\n",
    "\n",
    "\n",
    "def order(array):\n",
    "    def cmp_sort(a, b):\n",
    "        return array[a] <= array[b]\n",
    "    idxs = list(range(0, len(array)))\n",
    "    _qsort(idxs, 0, len(array) - 1, cmp_sort)\n",
    "    return idxs"
   ]
  },
  {
   "cell_type": "code",
   "execution_count": 32,
   "metadata": {},
   "outputs": [
    {
     "data": {
      "text/plain": [
       "[5, 6, 7, 8, 9, 10]"
      ]
     },
     "execution_count": 32,
     "metadata": {},
     "output_type": "execute_result"
    }
   ],
   "source": [
    "sort([10, 9, 8, 7, 6, 5])"
   ]
  },
  {
   "cell_type": "code",
   "execution_count": 33,
   "metadata": {},
   "outputs": [
    {
     "data": {
      "text/plain": [
       "[5, 4, 3, 2, 1, 0]"
      ]
     },
     "execution_count": 33,
     "metadata": {},
     "output_type": "execute_result"
    }
   ],
   "source": [
    "order([10, 9, 8, 7, 6, 5])"
   ]
  },
  {
   "cell_type": "code",
   "execution_count": null,
   "metadata": {},
   "outputs": [],
   "source": []
  }
 ],
 "metadata": {
  "kernelspec": {
   "display_name": "Python 3",
   "language": "python",
   "name": "python3"
  },
  "language_info": {
   "codemirror_mode": {
    "name": "ipython",
    "version": 3
   },
   "file_extension": ".py",
   "mimetype": "text/x-python",
   "name": "python",
   "nbconvert_exporter": "python",
   "pygments_lexer": "ipython3",
   "version": "3.8.5"
  },
  "metadata": {
   "interpreter": {
    "hash": "bc80ae73d0cbfc7e6ba1a6414a6f692fa96249d2d3b92e103158da0cb88d3364"
   }
  }
 },
 "nbformat": 4,
 "nbformat_minor": 4
}
